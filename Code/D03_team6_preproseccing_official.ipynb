{
 "cells": [
  {
   "cell_type": "markdown",
   "id": "d1445db4",
   "metadata": {},
   "source": [
    "#                                    Preproseccing of Data"
   ]
  },
  {
   "cell_type": "markdown",
   "id": "83dc2962",
   "metadata": {},
   "source": [
    "### Libraries"
   ]
  },
  {
   "cell_type": "code",
   "execution_count": 1,
   "id": "c46dc9c7",
   "metadata": {},
   "outputs": [],
   "source": [
    "import pandas as pd\n",
    "import numpy as np\n",
    "from sklearn.impute import KNNImputer\n",
    "from category_encoders import TargetEncoder\n",
    "from sklearn.preprocessing import MinMaxScaler"
   ]
  },
  {
   "cell_type": "markdown",
   "id": "8cb38f2d",
   "metadata": {},
   "source": [
    "### Functions"
   ]
  },
  {
   "cell_type": "code",
   "execution_count": 2,
   "id": "33fe9107",
   "metadata": {},
   "outputs": [],
   "source": [
    "def count_na(some_series):\n",
    "    \"\"\"\n",
    "    Function to find all NAN values in a series\n",
    "    Input :\n",
    "        Some series : The series we want to find the NAN values\n",
    "    Output :\n",
    "        s : count of all na values in the series\n",
    "    \"\"\"\n",
    "    s = 0\n",
    "    ser_bool = some_series.isna()\n",
    "    for i in ser_bool:\n",
    "        if i :\n",
    "            s+=1\n",
    "    return s"
   ]
  },
  {
   "cell_type": "code",
   "execution_count": 3,
   "id": "4b2c1dfe",
   "metadata": {},
   "outputs": [],
   "source": [
    "def correction_brands ( list_of_brands):\n",
    "    \"\"\"\n",
    "    Correcting the name of the brands that are misspelt\n",
    "    Input:\n",
    "        list_of_brands : List of car brands\n",
    "    \n",
    "    Output:\n",
    "        corr_list : List with the names of the brands corrected\n",
    "    \"\"\"\n",
    "    dict_of_corrections = {'chevroelt':'chevrolet', 'chevy':'chevrolet', 'maxda':'mazda', 'vokswagen':'vw', 'volkswagen':'vw', 'toyouta':'toyota', 'mercedes':'mercedes-benz'}\n",
    "    corr_list = list_of_brands.replace(dict_of_corrections)\n",
    "    return corr_list"
   ]
  },
  {
   "cell_type": "code",
   "execution_count": 4,
   "id": "2265532a",
   "metadata": {},
   "outputs": [],
   "source": [
    "def filling_na (df):\n",
    "    \"\"\"\n",
    "    Filling nan values of a df with the Knn Imputer algorithm\n",
    "    input:\n",
    "        Df: dataframe with only numeric values\n",
    "    Output:\n",
    "        re: dataframe with all na values filled\n",
    "    \"\"\"\n",
    "    \n",
    "    imputer = KNNImputer(n_neighbors=3, weights=\"distance\")\n",
    "    array = imputer.fit_transform(df)\n",
    "    re=pd.DataFrame(array)\n",
    "    re.columns=['mpg', 'cylinders', 'displacements', 'horsepower', 'weight', 'acceleration', 'model year', 'origin']\n",
    "                \n",
    "    return re"
   ]
  },
  {
   "cell_type": "code",
   "execution_count": 5,
   "id": "4d76d0b3",
   "metadata": {},
   "outputs": [],
   "source": [
    "def encoding(some_series, target):\n",
    "    \"\"\"\n",
    "    Enconding with Target encoding the columns with strings\n",
    "    Input:\n",
    "        some_series: The attribute we want to encode( as series)\n",
    "    Output:\n",
    "        some_series: The attribute encoded\n",
    "    \"\"\"\n",
    "    encoder = TargetEncoder()\n",
    "    encoded = encoder.fit_transform(some_series, target)\n",
    "    \n",
    "    return encoded"
   ]
  },
  {
   "cell_type": "code",
   "execution_count": 6,
   "id": "ad7a6311",
   "metadata": {},
   "outputs": [],
   "source": [
    "def scaler_f(some_series):\n",
    "    \"\"\"\n",
    "    Scalling an attribute with min max scaler\n",
    "    Input:\n",
    "        some_series: The attribute we want to scale( as series)\n",
    "    Output:\n",
    "        scaled_data: The data of the attribute scaled\n",
    "    \"\"\"\n",
    "    \n",
    "    scaler = MinMaxScaler()\n",
    "    scaled_data = scaler.fit_transform(some_series)\n",
    "    return scaled_data"
   ]
  },
  {
   "cell_type": "markdown",
   "id": "9bf9935d",
   "metadata": {},
   "source": [
    "### Main"
   ]
  },
  {
   "cell_type": "code",
   "execution_count": 7,
   "id": "82bd7ac6",
   "metadata": {},
   "outputs": [],
   "source": [
    "#Reading the Data\n",
    "\n",
    "file_path = '/home/mav24/Documents/Development/Regeneration/Project/Data/mpg.data.xlsx'\n",
    "data=pd.read_excel(file_path)"
   ]
  },
  {
   "cell_type": "code",
   "execution_count": 8,
   "id": "27ea247b",
   "metadata": {},
   "outputs": [],
   "source": [
    "# Droping Empty columns and renaming the existing ones for easier use\n",
    "\n",
    "data.drop(columns=['Unnamed: 9', 'Unnamed: 10', 'Unnamed: 11', 'Unnamed: 12'], inplace=True)\n",
    "data.columns=['mpg', 'cylinders', 'displacements', 'horsepower', 'weight', 'acceleration', 'model year', 'origin', 'car name']"
   ]
  },
  {
   "cell_type": "code",
   "execution_count": 9,
   "id": "2d168a43",
   "metadata": {},
   "outputs": [],
   "source": [
    "# Replacing NaN values with in KNN Imputer algorithm\n",
    "\n",
    "car_name = data['car name']\n",
    "data = filling_na(data.drop(columns='car name'))"
   ]
  },
  {
   "cell_type": "code",
   "execution_count": 10,
   "id": "8ef11c57",
   "metadata": {},
   "outputs": [],
   "source": [
    "# Creating attribute with the total cc of the cars which is the number of cylinders times \n",
    "# the displacements of each cylinder\n",
    "\n",
    "data['total cc'] = data['cylinders']*data['displacements']\n",
    "data['car name'] = car_name"
   ]
  },
  {
   "cell_type": "code",
   "execution_count": 11,
   "id": "71f42d6d",
   "metadata": {},
   "outputs": [],
   "source": [
    "# Seperate the car name to brand and correcting it \n",
    "\n",
    "car_brand = data['car name'].str.split().str.get(0)\n",
    "car_brand = correction_brands(car_brand)\n",
    "data['car brand'] = car_brand"
   ]
  },
  {
   "cell_type": "code",
   "execution_count": 12,
   "id": "29c99f68",
   "metadata": {},
   "outputs": [
    {
     "name": "stderr",
     "output_type": "stream",
     "text": [
      "/home/mav24/anaconda3/envs/PythonTest/lib/python3.8/site-packages/category_encoders/utils.py:21: FutureWarning: is_categorical is deprecated and will be removed in a future version.  Use is_categorical_dtype instead\n",
      "  elif pd.api.types.is_categorical(cols):\n"
     ]
    }
   ],
   "source": [
    "# Encoding categorical attributes with target on MPG \n",
    "\n",
    "# Car brand\n",
    "encoded_car_brand = encoding(data[['car brand']], data[['mpg']])\n",
    "\n",
    "# Model year\n",
    "encoded_model_year = encoding(data[['model year']], data[['mpg']])\n",
    "\n",
    "\n",
    "# Origin\n",
    "encoded_origin = encoding(data[['origin']], data[['mpg']])"
   ]
  },
  {
   "cell_type": "code",
   "execution_count": 13,
   "id": "aff33014",
   "metadata": {},
   "outputs": [],
   "source": [
    "# Scaling the data to [0,1]\n",
    "\n",
    "scaled_cylinders = scaler_f(data[['cylinders']]) \n",
    "scaled_displacements = scaler_f(data[['displacements']])\n",
    "scaled_horsepower = scaler_f(data[['horsepower']])\n",
    "scaled_weight = scaler_f(data[['weight']])\n",
    "scaled_acceleration = scaler_f(data[['acceleration']])\n",
    "scaled_total_ccs = scaler_f(data[['total cc']])"
   ]
  },
  {
   "cell_type": "code",
   "execution_count": 14,
   "id": "3365cde6",
   "metadata": {},
   "outputs": [],
   "source": [
    "# Scaling the encoded data to [0,1] as well\n",
    "\n",
    "scaled_encoded_car_brand = scaler_f(encoded_car_brand)\n",
    "scaled_encoded_model_year = scaler_f(encoded_model_year)\n",
    "scaled_encoded_origin = scaler_f(encoded_origin)"
   ]
  },
  {
   "cell_type": "code",
   "execution_count": 15,
   "id": "4d39975d",
   "metadata": {},
   "outputs": [],
   "source": [
    "# Changing the data of our dataframe and dropping attributes we will not use\n",
    "\n",
    "data['cylinders'] = scaled_cylinders\n",
    "data['displacements'] = scaled_displacements\n",
    "data['horsepower'] = scaled_horsepower\n",
    "data['weight'] = scaled_weight\n",
    "data['acceleration'] = scaled_acceleration\n",
    "data['total cc'] = scaled_total_ccs\n",
    "data['encoded car brand'] = scaled_encoded_car_brand\n",
    "data['encoded model year'] = scaled_encoded_model_year\n",
    "data['encoded origin'] = scaled_encoded_origin\n",
    "data.drop(columns=['model year', 'origin', 'car name', 'car brand'], inplace=True)"
   ]
  },
  {
   "cell_type": "code",
   "execution_count": 17,
   "id": "bfe146a2",
   "metadata": {},
   "outputs": [
    {
     "name": "stdout",
     "output_type": "stream",
     "text": [
      "      mpg  cylinders  displacements  horsepower    weight  acceleration  \\\n",
      "0    18.0        1.0       0.617571    0.456522  0.536150      0.238095   \n",
      "1    15.0        1.0       0.728682    0.646739  0.589736      0.208333   \n",
      "2    18.0        1.0       0.645995    0.565217  0.516870      0.178571   \n",
      "3    16.0        1.0       0.609819    0.565217  0.516019      0.238095   \n",
      "4    17.0        1.0       0.604651    0.510870  0.520556      0.148810   \n",
      "..    ...        ...            ...         ...       ...           ...   \n",
      "401  27.0        0.2       0.186047    0.217391  0.333711      0.452381   \n",
      "402  44.0        0.2       0.074935    0.032609  0.146583      0.988095   \n",
      "403  32.0        0.2       0.173127    0.206522  0.193365      0.214286   \n",
      "404  28.0        0.2       0.134367    0.179348  0.286929      0.630952   \n",
      "405  31.0        0.2       0.131783    0.195652  0.313864      0.678571   \n",
      "\n",
      "     total cc  encoded car brand  encoded model year  encoded origin  \n",
      "0    0.654810           0.169558                 0.0             0.0  \n",
      "1    0.755102           0.113920                 0.0             0.0  \n",
      "2    0.680466           0.253653                 0.0             0.0  \n",
      "3    0.647813           0.049785                 0.0             0.0  \n",
      "4    0.643149           0.137316                 0.0             0.0  \n",
      "..        ...                ...                 ...             ...  \n",
      "401  0.102041           0.137316                 1.0             0.0  \n",
      "402  0.051895           0.900279                 1.0             0.5  \n",
      "403  0.096210           0.288859                 1.0             0.0  \n",
      "404  0.078717           0.137316                 1.0             0.0  \n",
      "405  0.077551           0.169558                 1.0             0.0  \n",
      "\n",
      "[406 rows x 10 columns]\n"
     ]
    }
   ],
   "source": [
    "# The preprosecced data on the data frame\n",
    "print (data)"
   ]
  }
 ],
 "metadata": {
  "kernelspec": {
   "display_name": "Python 3 (ipykernel)",
   "language": "python",
   "name": "python3"
  },
  "language_info": {
   "codemirror_mode": {
    "name": "ipython",
    "version": 3
   },
   "file_extension": ".py",
   "mimetype": "text/x-python",
   "name": "python",
   "nbconvert_exporter": "python",
   "pygments_lexer": "ipython3",
   "version": "3.8.11"
  }
 },
 "nbformat": 4,
 "nbformat_minor": 5
}
